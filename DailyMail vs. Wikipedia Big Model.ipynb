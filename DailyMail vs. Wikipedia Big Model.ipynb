{
 "cells": [
  {
   "cell_type": "code",
   "execution_count": 1,
   "metadata": {
    "collapsed": true
   },
   "outputs": [],
   "source": [
    "import numpy as np\n",
    "import pandas as pd\n",
    "import ast\n",
    "import gensim\n",
    "import matplotlib.pyplot as plt"
   ]
  },
  {
   "cell_type": "markdown",
   "metadata": {},
   "source": [
    "# APNews Model Test"
   ]
  },
  {
   "cell_type": "code",
   "execution_count": 21,
   "metadata": {
    "collapsed": true
   },
   "outputs": [],
   "source": [
    "apnews_model = gensim.models.Doc2Vec.load('apnews_sen_model.model')"
   ]
  },
  {
   "cell_type": "code",
   "execution_count": 22,
   "metadata": {},
   "outputs": [
    {
     "name": "stdout",
     "output_type": "stream",
     "text": [
      "0.897589518908\n",
      "0.881390253871\n",
      "0.890048865768\n",
      "0.892078232341\n"
     ]
    }
   ],
   "source": [
    "test_sentence = [\"Kabir\", \"is\", \"my\", \"name\"]\n",
    "test_sentence_2 = [\"Kabir\", \"is\", \"my\", \"dog's\", \"name\"]\n",
    "test_sentence_3 = [\"Michael\", \"cheats\", \"on\", \"his\", \"diet\"]\n",
    "test_sentence_4 = [\"Abraham\", \"Lincoln\", \"has\", \"had\", \"better\", \"days\"]\n",
    "print(apnews_model.docvecs.similarity_unseen_docs(apnews_model, test_sentence, test_sentence))\n",
    "print(apnews_model.docvecs.similarity_unseen_docs(apnews_model, test_sentence, test_sentence_2))\n",
    "print(apnews_model.docvecs.similarity_unseen_docs(apnews_model, test_sentence, test_sentence_3))\n",
    "print(apnews_model.docvecs.similarity_unseen_docs(apnews_model, test_sentence, test_sentence_4))"
   ]
  },
  {
   "cell_type": "markdown",
   "metadata": {},
   "source": [
    "# Wikipedia Model Test"
   ]
  },
  {
   "cell_type": "code",
   "execution_count": 23,
   "metadata": {
    "collapsed": true
   },
   "outputs": [],
   "source": [
    "wiki_model = gensim.models.Doc2Vec.load('wiki_model.model')"
   ]
  },
  {
   "cell_type": "code",
   "execution_count": 29,
   "metadata": {},
   "outputs": [
    {
     "name": "stdout",
     "output_type": "stream",
     "text": [
      "0.724653828452\n",
      "0.871757108945\n",
      "0.124214567341\n",
      "-0.156156735423\n"
     ]
    }
   ],
   "source": [
    "test_sentence = [\"Kabir\", \"is\", \"my\", \"name\"]\n",
    "test_sentence_2 = [\"Kabir\", \"is\", \"my\", \"dog's\", \"name\"]\n",
    "test_sentence_3 = [\"Michael\", \"cheats\", \"on\", \"his\", \"diet\"]\n",
    "test_sentence_4 = [\"Abraham\", \"Lincoln\", \"has\", \"had\", \"better\", \"days\"]\n",
    "print(apnews_model.docvecs.similarity_unseen_docs(wiki_model, test_sentence, test_sentence))\n",
    "print(apnews_model.docvecs.similarity_unseen_docs(wiki_model, test_sentence, test_sentence_2))\n",
    "print(apnews_model.docvecs.similarity_unseen_docs(wiki_model, test_sentence, test_sentence_3))\n",
    "print(apnews_model.docvecs.similarity_unseen_docs(wiki_model, test_sentence, test_sentence_4))"
   ]
  },
  {
   "cell_type": "markdown",
   "metadata": {},
   "source": [
    "## Reduce Model RAM"
   ]
  },
  {
   "cell_type": "code",
   "execution_count": 31,
   "metadata": {},
   "outputs": [],
   "source": [
    "wiki_model.delete_temporary_training_data(keep_doctags_vectors=True, keep_inference=True)\n",
    "wiki_model.save('wiki_model_reduced.model')"
   ]
  },
  {
   "cell_type": "code",
   "execution_count": 32,
   "metadata": {
    "collapsed": true
   },
   "outputs": [],
   "source": [
    "apnews_model.delete_temporary_training_data(keep_doctags_vectors=True, keep_inference=True)\n",
    "apnews_model.save('apnews_model_reduced.model')"
   ]
  },
  {
   "cell_type": "markdown",
   "metadata": {},
   "source": [
    "## Load RAM Reduced Models"
   ]
  },
  {
   "cell_type": "code",
   "execution_count": 33,
   "metadata": {
    "collapsed": true
   },
   "outputs": [],
   "source": [
    "wiki_model_reduced = gensim.models.Doc2Vec.load('wiki_model_reduced.model')\n",
    "apnews_model_reduced = gensim.models.Doc2Vec.load('apnews_model_reduced.model')"
   ]
  },
  {
   "cell_type": "markdown",
   "metadata": {},
   "source": [
    " ## Retest to make sure RAM reduce had no negative effects"
   ]
  },
  {
   "cell_type": "code",
   "execution_count": 40,
   "metadata": {},
   "outputs": [
    {
     "name": "stdout",
     "output_type": "stream",
     "text": [
      "0.905292815112\n",
      "0.727345367884\n",
      "0.91559562846\n",
      "0.785478510041\n"
     ]
    }
   ],
   "source": [
    "test_sentence = [\"Kabir\", \"is\", \"my\", \"name\"]\n",
    "test_sentence_2 = [\"Kabir\", \"is\", \"my\", \"dog's\", \"name\"]\n",
    "test_sentence_3 = [\"Michael\", \"cheats\", \"on\", \"his\", \"diet\"]\n",
    "test_sentence_4 = [\"Abraham\", \"Lincoln\", \"has\", \"had\", \"better\", \"days\"]\n",
    "print(apnews_model_reduced.docvecs.similarity_unseen_docs(apnews_model_reduced, test_sentence, test_sentence))\n",
    "print(apnews_model_reduced.docvecs.similarity_unseen_docs(apnews_model_reduced, test_sentence, test_sentence_2))\n",
    "print(apnews_model_reduced.docvecs.similarity_unseen_docs(apnews_model_reduced, test_sentence, test_sentence_3))\n",
    "print(apnews_model_reduced.docvecs.similarity_unseen_docs(apnews_model_reduced, test_sentence, test_sentence_4))"
   ]
  },
  {
   "cell_type": "code",
   "execution_count": 45,
   "metadata": {},
   "outputs": [
    {
     "name": "stdout",
     "output_type": "stream",
     "text": [
      "0.82072526216\n",
      "0.770262920605\n",
      "0.405964176383\n",
      "-0.463152806387\n"
     ]
    }
   ],
   "source": [
    "test_sentence = [\"Kabir\", \"is\", \"my\", \"name\"]\n",
    "test_sentence_2 = [\"Kabir\", \"is\", \"my\", \"dog's\", \"name\"]\n",
    "test_sentence_3 = [\"Michael\", \"cheats\", \"on\", \"his\", \"diet\"]\n",
    "test_sentence_4 = [\"Abraham\", \"Lincoln\", \"has\", \"had\", \"better\", \"days\"]\n",
    "print(wiki_model_reduced.docvecs.similarity_unseen_docs(wiki_model_reduced, test_sentence, test_sentence))\n",
    "print(wiki_model_reduced.docvecs.similarity_unseen_docs(wiki_model_reduced, test_sentence, test_sentence_2))\n",
    "print(wiki_model_reduced.docvecs.similarity_unseen_docs(wiki_model_reduced, test_sentence, test_sentence_3))\n",
    "print(wiki_model_reduced.docvecs.similarity_unseen_docs(wiki_model_reduced, test_sentence, test_sentence_4))"
   ]
  },
  {
   "cell_type": "markdown",
   "metadata": {},
   "source": [
    "# Wikipedia Data"
   ]
  },
  {
   "cell_type": "code",
   "execution_count": 46,
   "metadata": {
    "collapsed": true
   },
   "outputs": [],
   "source": [
    "df = pd.read_csv('wiki_summaries.csv')\n",
    "df_2 = pd.read_csv('wiki_documents.csv')\n",
    "\n",
    "wiki_summaries = df['Summaries']\n",
    "tokenized_wiki_summaries = [ast.literal_eval(summary) for summary in df['Tokenized Summaries']]\n",
    "wiki_documents = df_2['Documents']\n",
    "tokenized_wiki_documents = [ast.literal_eval(document) for document in df_2['Tokenized Documents']]\n",
    "titles = df['Titles']"
   ]
  },
  {
   "cell_type": "code",
   "execution_count": 47,
   "metadata": {
    "collapsed": true
   },
   "outputs": [],
   "source": [
    "wiki_summary_lengths = {}\n",
    "for i in range(len(tokenized_wiki_summaries)):\n",
    "    summ_length = len(tokenized_wiki_summaries[i])\n",
    "    if summ_length in wiki_summary_lengths:\n",
    "        wiki_summary_lengths[summ_length].append(i)\n",
    "    else:\n",
    "        wiki_summary_lengths[summ_length] = [i]"
   ]
  },
  {
   "cell_type": "code",
   "execution_count": 48,
   "metadata": {
    "collapsed": true
   },
   "outputs": [],
   "source": [
    "def plot_average_summary_similarity(batch_summaries, batch_documents, model):\n",
    "    print(str(len(batch_summaries)) + ' summaries containing ' + str(len(batch_summaries[0])) + ' sentences.')\n",
    "    \n",
    "    sentence_similarities = {}\n",
    "    total_num_sentences = 0\n",
    "    for id in range(len(batch_summaries)):\n",
    "        summ = batch_summaries[id]\n",
    "        doc = batch_documents[id]\n",
    "        \n",
    "        for i in range(len(summ)):\n",
    "            summ_sent = summ[i]\n",
    "            for doc_sent in doc:\n",
    "                similarity = model.docvecs.similarity_unseen_docs(model, summ_sent.split(\" \"), doc_sent.split(\" \"))\n",
    "                if i in sentence_similarities:\n",
    "                    sentence_similarities[i] += similarity\n",
    "                else:\n",
    "                    sentence_similarities[i] = similarity\n",
    "\n",
    "        total_num_sentences += len(doc)\n",
    "            \n",
    "    for sen_num in sentence_similarities:\n",
    "        sentence_similarities[sen_num] /= total_num_sentences\n",
    "    \n",
    "    summ_sentences = list(sentence_similarities.keys())\n",
    "    sims = [sentence_similarities[sent] for sent in sentence_similarities]\n",
    "    \n",
    "    plt.bar(np.arange(len(summ_sentences)), sims)\n",
    "    plt.ylabel('Average Similarity in Document')\n",
    "    plt.xlabel('Sentence Number in Summary')\n",
    "    plt.xticks(np.arange(len(summ_sentences)))"
   ]
  },
  {
   "cell_type": "code",
   "execution_count": 49,
   "metadata": {
    "collapsed": true
   },
   "outputs": [],
   "source": [
    "def compute_summary_similarities(tokenized_summaries, num_summary_sentences, threshold, model, summary_lengths):\n",
    "    similarities = np.zeros(shape=(int(num_summary_sentences), int(num_summary_sentences)))\n",
    "    filtered_summary_ids = summary_lengths[num_summary_sentences]\n",
    "\n",
    "    for summ_id in filtered_summary_ids:\n",
    "        tok_summary = tokenized_summaries[summ_id]\n",
    "        for i in range(len(tok_summary)):\n",
    "            for j in range(len(tok_summary)):\n",
    "                similarity = model.docvecs.similarity_unseen_docs(model, tok_summary[i].split(\" \"), tok_summary[j].split(\" \"))\n",
    "                if similarity > threshold:\n",
    "                    similarities[i][j] += 1\n",
    "\n",
    "    num_summs = len(filtered_summary_ids)\n",
    "    for i in range(int(num_summary_sentences)):\n",
    "        for j in range(int(num_summary_sentences)):\n",
    "            similarities[i][j] /= num_summs\n",
    "\n",
    "    return similarities"
   ]
  },
  {
   "cell_type": "code",
   "execution_count": 50,
   "metadata": {},
   "outputs": [
    {
     "name": "stdout",
     "output_type": "stream",
     "text": [
      "20 summaries containing 5 sentences.\n"
     ]
    },
    {
     "data": {
      "image/png": "[encoded data removed]",
      "text/plain": [
       "<matplotlib.figure.Figure at 0x4cf33eeb8>"
      ]
     },
     "metadata": {},
     "output_type": "display_data"
    }
   ],
   "source": [
    "doc_ids = wiki_summary_lengths[5]\n",
    "batch_documents = [tokenized_wiki_documents[doc_id] for doc_id in doc_ids]\n",
    "batch_summaries = [tokenized_wiki_summaries[doc_id] for doc_id in doc_ids]\n",
    "\n",
    "plot_average_summary_similarity(batch_summaries[0:20], batch_documents[0:20], apnews_model_reduced)"
   ]
  },
  {
   "cell_type": "code",
   "execution_count": 51,
   "metadata": {},
   "outputs": [
    {
     "name": "stdout",
     "output_type": "stream",
     "text": [
      "[[ 0.21428571  0.00132275  0.00529101  0.00925926  0.00661376]\n",
      " [ 0.00396825  0.17857143  0.00529101  0.0026455   0.0026455 ]\n",
      " [ 0.0026455   0.00132275  0.18783069  0.00661376  0.00396825]\n",
      " [ 0.0026455   0.0026455   0.00132275  0.1984127   0.00529101]\n",
      " [ 0.00529101  0.00396825  0.00132275  0.          0.21164021]]\n"
     ]
    }
   ],
   "source": [
    "print(compute_summary_similarities(tokenized_wiki_summaries, 5, .70, apnews_model_reduced, wiki_summary_lengths))"
   ]
  },
  {
   "cell_type": "code",
   "execution_count": null,
   "metadata": {
    "collapsed": true
   },
   "outputs": [],
   "source": []
  }
 ],
 "metadata": {
  "kernelspec": {
   "display_name": "Python 3",
   "language": "python",
   "name": "python3"
  },
  "language_info": {
   "codemirror_mode": {
    "name": "ipython",
    "version": 3
   },
   "file_extension": ".py",
   "mimetype": "text/x-python",
   "name": "python",
   "nbconvert_exporter": "python",
   "pygments_lexer": "ipython3",
   "version": "3.6.2"
  }
 },
 "nbformat": 4,
 "nbformat_minor": 2
}
